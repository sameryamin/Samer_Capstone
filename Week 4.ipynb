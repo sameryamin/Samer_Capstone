{
    "cells": [
        {
            "cell_type": "markdown",
            "metadata": {
                "collapsed": true
            },
            "source": "# The battle of the neighborhoods\n\n## 1. Introduction\n\nAmman is the larget city in Jordan. It is also the capital. One of the most famous aspects of that cirt is the food they have. Therefore, many entrepreneurs are attracted to the city and try to open resteraunts in many different locations accross the city. This project will focus on the problem of unsuccessful resteraunts and the reasons they could have been unsuccessful. The audience of this project will mainly be entrepreneurs.\n\n\n## 2. Problem\n\nOpening a resteraunt in Amman city is extremely challenging as research shows that a very high percentage of people that open resteraunts in that city fail to be successful. It is believed that the reason for this is that the resteraunts were opened in the wrong areas and attracted the wrong group of customers. The location of opening was shown to be one of the most important aspects of opening a resteraunt in that city. Fo that reason, the main objective of this project is to suggest and recommend, to future entrepreneurs planning on opening a resteraunt in that city, the best choices of location so that they can largely increase their chances of success. These recommendations will be proven with data from the data science team. This problem is extremely important to resolve as many entrepreneurs with potential are going bankrupt.\n\n## 3. Data Sources\n\nThe data this project will utilize will mainly be sources from the following locations:\n\nFoursquare API\nGoogle maps\nGeospatial data for Amman's neighborhoods\nPopulation by FSA\n\n## 4. Data description\n\nAll the data stated above will be ustilized to solve this problem and try to find the best location to open a resteraunt in a certain neighborhood. Before deciding on what aspects of the data will be considered, first we need to consider what type of resteraunt we are opening. From there, we can use the data sources to filter out certain groups and their locations to figure out and find the most appropriate location."
        },
        {
            "cell_type": "code",
            "execution_count": null,
            "metadata": {},
            "outputs": [],
            "source": ""
        }
    ],
    "metadata": {
        "kernelspec": {
            "display_name": "Python 3.6",
            "language": "python",
            "name": "python3"
        },
        "language_info": {
            "codemirror_mode": {
                "name": "ipython",
                "version": 3
            },
            "file_extension": ".py",
            "mimetype": "text/x-python",
            "name": "python",
            "nbconvert_exporter": "python",
            "pygments_lexer": "ipython3",
            "version": "3.6.9"
        }
    },
    "nbformat": 4,
    "nbformat_minor": 1
}